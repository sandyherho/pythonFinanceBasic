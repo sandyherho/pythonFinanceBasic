{
 "cells": [
  {
   "cell_type": "code",
   "execution_count": 2,
   "metadata": {},
   "outputs": [],
   "source": [
    "import numpy as np\n",
    "import pandas as pd\n",
    "import matplotlib.pyplot as plt\n",
    "plt.style.use('ggplot')"
   ]
  },
  {
   "cell_type": "markdown",
   "metadata": {},
   "source": [
    "# Population and sample"
   ]
  },
  {
   "cell_type": "code",
   "execution_count": 3,
   "metadata": {},
   "outputs": [],
   "source": [
    "data = pd.DataFrame()\n",
    "data['Population'] = [47, 48, 85, 20, 19, 13, 72, 16, 50, 60]"
   ]
  },
  {
   "cell_type": "code",
   "execution_count": 5,
   "metadata": {},
   "outputs": [],
   "source": [
    "a_sample_without_replacement = data['Population'].sample(5, replace=False)\n",
    "a_sample_with_replacement = data['Population'].sample(5, replace=True)"
   ]
  },
  {
   "cell_type": "code",
   "execution_count": 6,
   "metadata": {},
   "outputs": [
    {
     "data": {
      "text/plain": [
       "6    72\n",
       "4    19\n",
       "9    60\n",
       "8    50\n",
       "7    16\n",
       "Name: Population, dtype: int64"
      ]
     },
     "execution_count": 6,
     "metadata": {},
     "output_type": "execute_result"
    }
   ],
   "source": [
    "a_sample_without_replacement"
   ]
  },
  {
   "cell_type": "code",
   "execution_count": 8,
   "metadata": {},
   "outputs": [
    {
     "data": {
      "text/plain": [
       "4    19\n",
       "9    60\n",
       "9    60\n",
       "3    20\n",
       "5    13\n",
       "Name: Population, dtype: int64"
      ]
     },
     "execution_count": 8,
     "metadata": {},
     "output_type": "execute_result"
    }
   ],
   "source": [
    "a_sample_with_replacement"
   ]
  },
  {
   "cell_type": "markdown",
   "metadata": {},
   "source": [
    "### Parameters:\n",
    "* Mean\n",
    "* Variance\n",
    "* Standard Deviation\n",
    "<br/><br/><br/>\n",
    "### Statistics:\n",
    "* Sample mean\n",
    "* Sample variance\n",
    "* Sample standard deviation"
   ]
  },
  {
   "cell_type": "code",
   "execution_count": 10,
   "metadata": {},
   "outputs": [
    {
     "name": "stdout",
     "output_type": "stream",
     "text": [
      "Population mean is  43.0\n",
      "Population variance is  571.8\n",
      "Population standard deviation is  23.912339910598458\n",
      "Population size is  10\n"
     ]
    }
   ],
   "source": [
    "print('Population mean is ', data['Population'].mean())\n",
    "print('Population variance is ', data['Population'].var(ddof=0))\n",
    "print('Population standard deviation is ', data['Population'].std(ddof=0)) # ddof=0, denominator= N\n",
    "print('Population size is ', data['Population'].shape[0])"
   ]
  },
  {
   "cell_type": "markdown",
   "metadata": {},
   "source": [
    "$$\\mu = \\frac{\\sum_{i=1}^{N}x_{i}}{N}$$ <br/><br/>\n",
    "$$\\sigma^2 = \\frac{\\sum_{i=1}^{N}(x_i - \\mu)^2} {N}$$"
   ]
  },
  {
   "cell_type": "code",
   "execution_count": 11,
   "metadata": {},
   "outputs": [],
   "source": [
    "a_sample = data['Population'].sample(10, replace=True)"
   ]
  },
  {
   "cell_type": "code",
   "execution_count": 12,
   "metadata": {},
   "outputs": [
    {
     "name": "stdout",
     "output_type": "stream",
     "text": [
      "Sample mean is  50.6\n",
      "Sample variance is  376.71111111111105\n",
      "Sample standard deviation is  19.40904714588305\n",
      "Sample size is  10\n"
     ]
    }
   ],
   "source": [
    "print('Sample mean is ', a_sample.mean())\n",
    "print('Sample variance is ', a_sample.var(ddof=1))\n",
    "print('Sample standard deviation is ', a_sample.std(ddof=1)) # ddof=1, denominator= n-1\n",
    "print('Sample size is ', a_sample.shape[0])"
   ]
  },
  {
   "cell_type": "markdown",
   "metadata": {},
   "source": [
    "$$\\bar{x} = \\frac{\\sum_{i=1}^{n}x_{i}}{n}$$ <br/><br/>\n",
    "$$s^2 = \\frac{\\sum_{i=1}^{n}(x_i - \\bar{x})^2} {n-1}$$"
   ]
  },
  {
   "cell_type": "code",
   "execution_count": 14,
   "metadata": {},
   "outputs": [],
   "source": [
    "sample_length = 500\n",
    "sample_variance_collection0 = [data['Population'].sample(50, replace=True).var(ddof=0)\n",
    "                              for i in range(sample_length)]\n",
    "sample_variance_collection1 = [data['Population'].sample(50, replace=True).var(ddof=1)\n",
    "                              for i in range(sample_length)]"
   ]
  },
  {
   "cell_type": "code",
   "execution_count": 16,
   "metadata": {},
   "outputs": [
    {
     "name": "stdout",
     "output_type": "stream",
     "text": [
      "Population variance is  571.8\n",
      "Average of sample variance with n is  557.7778432000001\n",
      "Average of sample variance with n-1 is  572.7210481632649\n"
     ]
    }
   ],
   "source": [
    "print('Population variance is ', data['Population'].var(ddof=0))\n",
    "print('Average of sample variance with n is ',\n",
    "     pd.DataFrame(sample_variance_collection0)[0].mean())\n",
    "print('Average of sample variance with n-1 is ',\n",
    "     pd.DataFrame(sample_variance_collection1)[0].mean())"
   ]
  },
  {
   "cell_type": "markdown",
   "metadata": {},
   "source": [
    "# Variation of sample"
   ]
  },
  {
   "cell_type": "code",
   "execution_count": null,
   "metadata": {},
   "outputs": [],
   "source": []
  }
 ],
 "metadata": {
  "kernelspec": {
   "display_name": "Python 3",
   "language": "python",
   "name": "python3"
  },
  "language_info": {
   "codemirror_mode": {
    "name": "ipython",
    "version": 3
   },
   "file_extension": ".py",
   "mimetype": "text/x-python",
   "name": "python",
   "nbconvert_exporter": "python",
   "pygments_lexer": "ipython3",
   "version": "3.7.4"
  }
 },
 "nbformat": 4,
 "nbformat_minor": 4
}
